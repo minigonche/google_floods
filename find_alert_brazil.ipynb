{
 "cells": [
  {
   "cell_type": "code",
   "execution_count": null,
   "metadata": {},
   "outputs": [],
   "source": [
    "import os\n",
    "import json\n",
    "import fiona\n",
    "import geopandas as gpd\n",
    "import matplotlib.pyplot as plt\n",
    "import pandas as pd\n",
    "from shapely.geometry import Point\n",
    "\n",
    "import contextily as cx"
   ]
  },
  {
   "cell_type": "code",
   "execution_count": null,
   "metadata": {},
   "outputs": [],
   "source": [
    "#first get alerts with flooding\n",
    "paths = []\n",
    "not_found = []\n",
    "count = 0\n",
    "base_dir = \"data/03-2023\"\n",
    "\n",
    "base_path = base_dir\n",
    "for day in os.listdir(base_path):\n",
    "    for hour in os.listdir(os.path.join(base_path, day)):\n",
    "        for minute in os.listdir(os.path.join(base_path, day, hour)):\n",
    "            for file_name in os.listdir(os.path.join(base_path, day, hour, minute)):\n",
    "                path = os.path.join(base_path, day, hour, minute, file_name, f\"{file_name}.json\")\n",
    "                kml_path = os.path.join(base_path, day, hour, minute, file_name, f\"{file_name}.kml\")\n",
    "                if os.path.exists(path):\n",
    "                    f = open(path)\n",
    "                    data = json.load(f)\n",
    "                    flooded = data[\"hasFlooding\"]\n",
    "\n",
    "                    if flooded:\n",
    "                        paths.append(kml_path)\n",
    "                else:\n",
    "                    not_found.append(path)\n",
    "                count += 1\n",
    "\n",
    "print(f\"From {count} alerts, found: {len(paths)} floods, and {len(not_found)} missing json\")"
   ]
  },
  {
   "cell_type": "code",
   "execution_count": null,
   "metadata": {},
   "outputs": [],
   "source": [
    "brazil_lower_left = [-28.93576585672869, -70.90469836359233]\n",
    "brazil_upper_right = [5.696972115053628, -33.84640810546731]\n",
    "la_map = os.path.join(\"latam_shp\", \"vc965bq8111.shp\")\n",
    "\n",
    "not_found = []\n",
    "alert_in_brazil = []\n",
    "\n",
    "centroids = []\n",
    "index = []\n",
    "\n",
    "for idx, path in enumerate(paths):\n",
    "    if not os.path.exists(path):\n",
    "        not_found.append(path)\n",
    "        continue\n",
    "    \n",
    "    gpd.io.file.fiona.drvsupport.supported_drivers['KML'] = 'rw'\n",
    "    gdf = gpd.read_file(path, driver='KML')\n",
    "    aoi_centroid = gdf.loc[gdf[\"Name\"] == \"aoi_polygon\", \"geometry\"].representative_point().values[0]\n",
    "    centroids.append(aoi_centroid)\n",
    "    index.append(idx)\n",
    "    lon = int(aoi_centroid.x)\n",
    "    lat = int(aoi_centroid.y)\n",
    "\n",
    "    if lon > brazil_lower_left[1] and lon < brazil_upper_right[1]:\n",
    "        if lat > brazil_lower_left[0] and lat < brazil_upper_right[0]:\n",
    "            alert_in_brazil.append(path)\n",
    "\n",
    "gdf = gpd.GeoDataFrame(geometry=centroids)\n",
    "gdf.head()"
   ]
  },
  {
   "cell_type": "code",
   "execution_count": null,
   "metadata": {},
   "outputs": [],
   "source": [
    "gdf_latam = gpd.read_file(la_map)\n",
    "fig, ax = plt.subplots(1,1)\n",
    "gdf_latam.boundary.plot(ax=ax)\n",
    "gdf.plot(ax=ax, color=\"red\")"
   ]
  },
  {
   "cell_type": "code",
   "execution_count": null,
   "metadata": {},
   "outputs": [],
   "source": [
    "complete_kml = []\n",
    "incomplete_kml = []\n",
    "\n",
    "for path in alert_in_brazil:\n",
    "    gpd.io.file.fiona.drvsupport.supported_drivers['KML'] = 'rw'\n",
    "    gdf = gpd.read_file(path, driver='KML')\n",
    "    if gdf.shape[0] > 1:\n",
    "        complete_kml.append(path)\n",
    "    else:\n",
    "        incomplete_kml.append(path)\n",
    "    \n",
    "print(f\"From {len(alert_in_brazil)}, {len(complete_kml)} are complete.\")"
   ]
  }
 ],
 "metadata": {
  "kernelspec": {
   "display_name": "python_3.9",
   "language": "python",
   "name": "python3"
  },
  "language_info": {
   "name": "python",
   "version": "3.9.13"
  },
  "orig_nbformat": 4
 },
 "nbformat": 4,
 "nbformat_minor": 2
}
